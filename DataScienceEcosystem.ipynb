{
 "cells": [
  {
   "cell_type": "markdown",
   "id": "396badf1-3b0e-467f-abe2-dac53d56d922",
   "metadata": {},
   "source": [
    "# Data Science Tools and Ecosystem"
   ]
  },
  {
   "cell_type": "markdown",
   "id": "59284c87-cf0c-4d4d-ae15-12396f2cf016",
   "metadata": {},
   "source": [
    "In this notebook, Data Science Tools and Ecosystem are summarized."
   ]
  },
  {
   "cell_type": "markdown",
   "id": "7342c925-8d72-4735-9a86-acad231f00e9",
   "metadata": {},
   "source": [
    "**Objectives:** \n",
    "- List some of the popular languages that can be commonly used for data science.\n",
    "- List development environment open-source tools for data science.\n",
    "- List some libraries used by data scientists. "
   ]
  },
  {
   "cell_type": "markdown",
   "id": "168e5bae-6c0c-4f2d-ba40-dd3647cdf69b",
   "metadata": {},
   "source": [
    "Some of the popular languages that Data Scientists use are:\n",
    "\n",
    "1. Python\n",
    "2. R\n",
    "3. SQL"
   ]
  },
  {
   "cell_type": "markdown",
   "id": "508f69aa-006f-4244-a9f5-08e954a593ff",
   "metadata": {},
   "source": [
    "Some of the commonly used libraries used by Data Scientists include:\n",
    "\n",
    "1. NumPy\n",
    "2. Pandas\n",
    "3. Matplotlib"
   ]
  },
  {
   "cell_type": "markdown",
   "id": "ea6b6cd9-a492-488b-a420-74b01f61bec1",
   "metadata": {},
   "source": [
    "| Data Science Tools |\n",
    "|--------------------|\n",
    "| Jupyter Notebook   |\n",
    "| Visual Studio Code |\n",
    "| R studio           |"
   ]
  },
  {
   "cell_type": "markdown",
   "id": "9c0d8e78-9c6d-446e-9f1a-bf1a6f96a77d",
   "metadata": {},
   "source": [
    "### Below are a few examples of evaluating arithmetic expressions in Python"
   ]
  },
  {
   "cell_type": "code",
   "execution_count": 1,
   "id": "70407b64-9cd1-451d-ba5c-9580cf3c118c",
   "metadata": {
    "tags": []
   },
   "outputs": [
    {
     "data": {
      "text/plain": [
       "17"
      ]
     },
     "execution_count": 1,
     "metadata": {},
     "output_type": "execute_result"
    }
   ],
   "source": [
    "#This a simple arithmetic expression to multiply then add integers\n",
    "\n",
    "(3*4)+5"
   ]
  },
  {
   "cell_type": "code",
   "execution_count": 2,
   "id": "54816d83-ec69-431c-bf3e-6f9c9a5022fa",
   "metadata": {
    "tags": []
   },
   "outputs": [
    {
     "data": {
      "text/plain": [
       "3.3333333333333335"
      ]
     },
     "execution_count": 2,
     "metadata": {},
     "output_type": "execute_result"
    }
   ],
   "source": [
    "#This will convert 200 minutes to hours by diving by 60\n",
    "\n",
    "200/60"
   ]
  },
  {
   "cell_type": "markdown",
   "id": "da4356d3-c3e1-463a-869f-7a43257654d4",
   "metadata": {},
   "source": [
    "## Author \n",
    "K.A. Kavindu Disnaka"
   ]
  }
 ],
 "metadata": {
  "kernelspec": {
   "display_name": "Python",
   "language": "python",
   "name": "conda-env-python-py"
  },
  "language_info": {
   "codemirror_mode": {
    "name": "ipython",
    "version": 3
   },
   "file_extension": ".py",
   "mimetype": "text/x-python",
   "name": "python",
   "nbconvert_exporter": "python",
   "pygments_lexer": "ipython3",
   "version": "3.7.12"
  }
 },
 "nbformat": 4,
 "nbformat_minor": 5
}
